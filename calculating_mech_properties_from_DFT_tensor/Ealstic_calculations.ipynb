{
 "cells": [
  {
   "cell_type": "code",
   "execution_count": 1,
   "id": "1e98d2ca-0aa7-4a88-bbc0-a7377affe0ad",
   "metadata": {},
   "outputs": [],
   "source": [
    "import numpy as np"
   ]
  },
  {
   "cell_type": "code",
   "execution_count": 3,
   "id": "7ab11979-c667-469c-b396-b7330d24248d",
   "metadata": {},
   "outputs": [],
   "source": [
    "elastic_matrix = [[1659.6005,949.9116, 888.6372, 5.7775, -1.2638, 15.6930],\n",
    "         [949.9116, 1589.4112, 966.9175, 0.0817, 5.5743, -22.5084],\n",
    "         [888.6372, 966.9175, 1607.0932, -0.0925, -8.4680, -0.7485],\n",
    "         [5.7775, 0.0817, -0.0925, 550.3241, -8.3042, 19.9034],\n",
    "         [-1.2638, 5.5743, -8.4680, -8.3042, 531.2935, 5.4159],\n",
    "         [15.6930, -22.5084, -0.7485, 19.9034, 5.4159, 533.7361]]"
   ]
  },
  {
   "cell_type": "code",
   "execution_count": 7,
   "id": "bf3d6983-3112-4807-93e1-85af8e3cfd46",
   "metadata": {},
   "outputs": [],
   "source": [
    "compliance_matrix = np.linalg.inv(elastic_matrix)"
   ]
  },
  {
   "cell_type": "code",
   "execution_count": 15,
   "id": "4f83585f-27a9-4bc1-9267-f5948735c734",
   "metadata": {},
   "outputs": [],
   "source": [
    "c11 = elastic_matrix[0][0]\n",
    "c22 = elastic_matrix[1][1]\n",
    "c33 = elastic_matrix[2][2]\n",
    "c12 = elastic_matrix[0][1]\n",
    "c23 = elastic_matrix[1][2]\n",
    "c31 = c13 =elastic_matrix[0][2]\n",
    "c44 = elastic_matrix[3][3]\n",
    "c55 = elastic_matrix[4][4]\n",
    "c66 = elastic_matrix[5][5]"
   ]
  },
  {
   "cell_type": "code",
   "execution_count": 19,
   "id": "10a456c4-f553-4637-83ec-a8e97012cf12",
   "metadata": {},
   "outputs": [],
   "source": [
    "s11 = compliance_matrix[0][0]\n",
    "s22 = compliance_matrix[1][1]\n",
    "s33 = compliance_matrix[2][2]\n",
    "s12 = compliance_matrix[0][1]\n",
    "s23 = compliance_matrix[1][2]\n",
    "s31 = s13 = compliance_matrix[0][2]\n",
    "s44 = compliance_matrix[3][3]\n",
    "s55 = compliance_matrix[4][4]\n",
    "s66 = compliance_matrix[5][5]"
   ]
  },
  {
   "cell_type": "code",
   "execution_count": 33,
   "id": "c85a26b6-42b8-475c-b10c-baf320dfa4ea",
   "metadata": {},
   "outputs": [],
   "source": [
    "Bulk_modulus_Voigt = Kv = (((c11+c22+c33)+(2*(c12+c23+c31)))/9)\n",
    "Bulk_modulus_Reuss_avg = Kr = 1/((s11+s22+s33)+(2*(s12+s23+s31)))\n",
    "\n",
    "Shear_modulus_Voigt_avg = Gv = ((c11+c22+c33) - (c12+c23+c31) + (3*(c44+c55+c66)))/15\n",
    "Shear_modulus_Reuss_avg = Gr = 15/((4*(s11+s22+s33) - (4*(s12+s23+s31)) + 3*(s44+s55+s66)))\n",
    "\n",
    "Bulk_modulus_VRH_average = Kvrh = (Kv+Kr)/2\n",
    "Shear_modulus_VRH_average = Gvrh = (Gv+Gr)/2\n",
    "\n",
    "Poisson_ratio = u = (3*Kvrh - 2*Gvrh) / (6*Kvrh + 2*Gvrh)"
   ]
  },
  {
   "cell_type": "code",
   "execution_count": 39,
   "id": "bad1141d-a114-4fd5-adfa-581b43fe825f",
   "metadata": {},
   "outputs": [
    {
     "name": "stdout",
     "output_type": "stream",
     "text": [
      "Bulk_modulus_Voigt(Kv): 116.30041666666666 GPa \n",
      "Bulk_modulus_Reuss(Kr): 116.28021766367036 GPa \n",
      "Shear_modulus_Voigt(Gv): 45.97799800000001 GPa \n",
      "Shear_modulus_Reuss(Gr): 43.48287855526366 GPa \n",
      "Poisson ratio: 0.3295339926133896\n"
     ]
    }
   ],
   "source": [
    "print(f'Bulk_modulus_Voigt(Kv): {Kv/10} GPa ')\n",
    "print(f'Bulk_modulus_Reuss(Kr): {Kr/10} GPa ')\n",
    "print(f'Shear_modulus_Voigt(Gv): {Gv/10} GPa ')\n",
    "print(f'Shear_modulus_Reuss(Gr): {Gr/10} GPa ')\n",
    "print(f'Poisson ratio: {u}')"
   ]
  }
 ],
 "metadata": {
  "kernelspec": {
   "display_name": "Python 3 (ipykernel)",
   "language": "python",
   "name": "python3"
  },
  "language_info": {
   "codemirror_mode": {
    "name": "ipython",
    "version": 3
   },
   "file_extension": ".py",
   "mimetype": "text/x-python",
   "name": "python",
   "nbconvert_exporter": "python",
   "pygments_lexer": "ipython3",
   "version": "3.9.13"
  }
 },
 "nbformat": 4,
 "nbformat_minor": 5
}
